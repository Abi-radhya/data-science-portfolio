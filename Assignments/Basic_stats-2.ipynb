{
 "cells": [
  {
   "cell_type": "code",
   "execution_count": 4,
   "id": "7b2b4d15-e852-4a72-8530-6a0b897309a6",
   "metadata": {},
   "outputs": [
    {
     "name": "stdout",
     "output_type": "stream",
     "text": [
      "Sample Mean: 1.2387\n",
      "Sample Standard Deviation: 0.1932\n",
      "\n",
      "(a) 99% Confidence Interval using sample SD (t-distribution):\n",
      "   --> (1.09, 1.387)\n",
      "\n",
      "(b) 99% Confidence Interval using known population SD (z-distribution):\n",
      "   --> (1.106, 1.372)\n"
     ]
    }
   ],
   "source": [
    "import numpy as np\n",
    "from scipy import stats\n",
    "\n",
    "data = [1.13, 1.55, 1.43, 0.92, 1.25, 1.36, 1.32, 0.85, 1.07, \n",
    "        1.48, 1.20, 1.33, 1.18, 1.22, 1.29]\n",
    "\n",
    "n = len(data)  # number of samples\n",
    "mean = np.mean(data)  # sample mean\n",
    "sample_std = np.std(data, ddof=1)  # sample standard deviation\n",
    "\n",
    "confidence = 0.99\n",
    "alpha = 1 - confidence\n",
    "\n",
    "#Task (a): When population standard deviation is NOT known --------\n",
    "# Use t-distribution\n",
    "t_critical = stats.t.ppf(1 - alpha/2, df=n-1)\n",
    "margin_error_t = t_critical * (sample_std / np.sqrt(n))\n",
    "ci_t = (mean - margin_error_t, mean + margin_error_t)\n",
    "\n",
    "#Task (b): When population standard deviation is known (0.2) --------\n",
    "# Use z-distribution\n",
    "pop_std = 0.2\n",
    "z_critical = stats.norm.ppf(1 - alpha/2)\n",
    "margin_error_z = z_critical * (pop_std / np.sqrt(n))\n",
    "ci_z = (mean - margin_error_z, mean + margin_error_z)\n",
    "\n",
    "print(\"Sample Mean:\", round(mean, 4))\n",
    "print(\"Sample Standard Deviation:\", round(sample_std, 4))\n",
    "print(\"\\n(a) 99% Confidence Interval using sample SD (t-distribution):\")\n",
    "print(\"   -->\", (round(ci_t[0], 3), round(ci_t[1], 3)))\n",
    "\n",
    "print(\"\\n(b) 99% Confidence Interval using known population SD (z-distribution):\")\n",
    "print(\"   -->\", (round(ci_z[0], 3), round(ci_z[1], 3)))\n"
   ]
  },
  {
   "cell_type": "code",
   "execution_count": null,
   "id": "9f6fda12-a138-4934-b9b2-c2dcade806f2",
   "metadata": {},
   "outputs": [],
   "source": [
    "# To build the 99% confidence interval, the sample mean and sample standard deviation were calculated from the 15 data points. \n",
    "# Since the population standard deviation is unknown and the sample size is small (n < 30), the t-distribution was used. \n",
    "# The t-critical value was found using 14 degrees of freedom. \n",
    "# The margin of error was computed and added/subtracted from the sample mean to get the confidence interval"
   ]
  }
 ],
 "metadata": {
  "kernelspec": {
   "display_name": "Python [conda env:base] *",
   "language": "python",
   "name": "conda-base-py"
  },
  "language_info": {
   "codemirror_mode": {
    "name": "ipython",
    "version": 3
   },
   "file_extension": ".py",
   "mimetype": "text/x-python",
   "name": "python",
   "nbconvert_exporter": "python",
   "pygments_lexer": "ipython3",
   "version": "3.12.7"
  }
 },
 "nbformat": 4,
 "nbformat_minor": 5
}
