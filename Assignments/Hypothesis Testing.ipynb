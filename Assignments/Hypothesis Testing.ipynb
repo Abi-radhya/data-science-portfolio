{
 "cells": [
  {
   "cell_type": "code",
   "execution_count": 2,
   "id": "e371f6f3-37c1-49f9-b86c-279932da234b",
   "metadata": {},
   "outputs": [
    {
     "name": "stdout",
     "output_type": "stream",
     "text": [
      "============================================================\n",
      "STEP 1: Hypotheses\n",
      "H0 (Null Hypothesis): The weekly operating cost model is still accurate.\n",
      "H1 (Alternative Hypothesis): The actual weekly operating cost is higher than predicted by the model.\n",
      "============================================================\n",
      "\n",
      "STEP 2: Calculate the Test Statistic\n",
      "Theoretical mean cost (μ): 4000\n",
      "Standard deviation (σ): 125\n",
      "Standard Error (SE): 25.0000\n",
      "Test Statistic (Z): -38.0000\n",
      "\n",
      "STEP 3: Critical Value (for α = 0.05, one-tailed test)\n",
      "Critical Value (Z₀.₀₅): 1.6449\n",
      "\n",
      "STEP 4: Decision\n",
      "Since Z = -38.0000 ≤ 1.6449, we FAIL TO REJECT the null hypothesis.\n",
      "\n",
      "STEP 5: Conclusion\n",
      "Conclusion: There is not enough evidence to say the weekly operating costs are higher than the model suggests.\n",
      "============================================================\n"
     ]
    }
   ],
   "source": [
    "import math\n",
    "import scipy.stats as stats\n",
    "\n",
    "# Step 1: State the Hypotheses\n",
    "print(\"=\"*60)\n",
    "print(\"STEP 1: Hypotheses\")\n",
    "print(\"H0 (Null Hypothesis): The weekly operating cost model is still accurate.\")\n",
    "print(\"H1 (Alternative Hypothesis): The actual weekly operating cost is higher than predicted by the model.\")\n",
    "print(\"=\"*60)\n",
    "\n",
    "# Step 2: Calculate the Test Statistic\n",
    "print(\"\\nSTEP 2: Calculate the Test Statistic\")\n",
    "\n",
    "# Given values\n",
    "sample_mean = 3050               # x̄\n",
    "X = 600                          # number of units produced\n",
    "mu = 1000 + 5 * X                # theoretical mean cost\n",
    "std_dev = 5 * 25                 # σ = 5 * std dev of X\n",
    "n = 25                           # sample size\n",
    "\n",
    "# Calculate the test statistic (z)\n",
    "standard_error = std_dev / math.sqrt(n)\n",
    "z = (sample_mean - mu) / standard_error\n",
    "\n",
    "print(f\"Theoretical mean cost (μ): {mu}\")\n",
    "print(f\"Standard deviation (σ): {std_dev}\")\n",
    "print(f\"Standard Error (SE): {standard_error:.4f}\")\n",
    "print(f\"Test Statistic (Z): {z:.4f}\")\n",
    "\n",
    "# Step 3: Determine the Critical Value\n",
    "print(\"\\nSTEP 3: Critical Value (for α = 0.05, one-tailed test)\")\n",
    "alpha = 0.05\n",
    "critical_value = stats.norm.ppf(1 - alpha)\n",
    "print(f\"Critical Value (Z₀.₀₅): {critical_value:.4f}\")\n",
    "\n",
    "# Step 4: Make a Decision\n",
    "print(\"\\nSTEP 4: Decision\")\n",
    "if z > critical_value:\n",
    "    print(f\"Since Z = {z:.4f} > {critical_value:.4f}, we REJECT the null hypothesis.\")\n",
    "    decision = \"reject\"\n",
    "else:\n",
    "    print(f\"Since Z = {z:.4f} ≤ {critical_value:.4f}, we FAIL TO REJECT the null hypothesis.\")\n",
    "    decision = \"fail\"\n",
    "\n",
    "# Step 5: Conclusion\n",
    "print(\"\\nSTEP 5: Conclusion\")\n",
    "if decision == \"reject\":\n",
    "    print(\"Conclusion: There is strong evidence that the actual weekly operating costs are higher than the model suggests.\")\n",
    "else:\n",
    "    print(\"Conclusion: There is not enough evidence to say the weekly operating costs are higher than the model suggests.\")\n",
    "print(\"=\"*60)\n"
   ]
  },
  {
   "cell_type": "code",
   "execution_count": null,
   "id": "4929d8d1-eeb9-4641-a4eb-8e989399cc79",
   "metadata": {},
   "outputs": [],
   "source": []
  }
 ],
 "metadata": {
  "kernelspec": {
   "display_name": "Python [conda env:base] *",
   "language": "python",
   "name": "conda-base-py"
  },
  "language_info": {
   "codemirror_mode": {
    "name": "ipython",
    "version": 3
   },
   "file_extension": ".py",
   "mimetype": "text/x-python",
   "name": "python",
   "nbconvert_exporter": "python",
   "pygments_lexer": "ipython3",
   "version": "3.12.3"
  }
 },
 "nbformat": 4,
 "nbformat_minor": 5
}
